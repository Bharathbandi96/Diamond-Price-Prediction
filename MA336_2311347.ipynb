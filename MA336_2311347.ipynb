{
 "cells": [
  {
   "cell_type": "markdown",
   "id": "b1f86bdb-4aba-452a-8a0e-cb74b931276b",
   "metadata": {},
   "source": [
    "# **MA336 - FINAL PROJECT**\n",
    "### Name : Bharath Bandi Ramakrishna\n",
    "### Registration Number : 2311347"
   ]
  },
  {
   "cell_type": "markdown",
   "id": "e4a49059-91ea-4a1d-adfb-969f8bac4109",
   "metadata": {},
   "source": [
    "<hr></hr>\n",
    "<h1><center>Diamond Price Prediction</center></h1>"
   ]
  },
  {
   "cell_type": "markdown",
   "id": "cc385b06-d486-457c-b351-f622411de4e5",
   "metadata": {},
   "source": [
    "Diamonds are the most valued for their rarity and also a significant investment. Predicting the price of a diamond is a challenging task influenced by various factors such as cut, clarity, color and much more. \n",
    "\n",
    "In this project, I have taken a sample dataset which provides various characteristics of a diamond which can be used in predicting the price. I have performed some priliminary analysis on these dataset and developed few machine learning models to predict the price of diamonds based on its characteristics.\n",
    "\n",
    "I have also used k-fold cross validation and dimensionality reduction techniques which helps in increasing models performance and predicting the diamons price accuratily."
   ]
  },
  {
   "cell_type": "markdown",
   "id": "60cb349a-b9ce-401d-b9cb-09a37a2f4a8a",
   "metadata": {},
   "source": [
    "#### Importing required libraries"
   ]
  },
  {
   "cell_type": "code",
   "execution_count": 122,
   "id": "1b009f14-88c5-487b-859b-82f49a88c793",
   "metadata": {},
   "outputs": [],
   "source": [
    "import pandas as pd\n",
    "import numpy as np\n",
    "import seaborn as sns\n",
    "import matplotlib.pyplot as plt\n",
    "from sklearn.model_selection import train_test_split\n",
    "from sklearn.preprocessing import StandardScaler, OrdinalEncoder\n",
    "from sklearn.decomposition import PCA\n",
    "from sklearn.pipeline import make_pipeline\n",
    "from sklearn.ensemble import RandomForestRegressor, GradientBoostingRegressor\n",
    "from sklearn.linear_model import LinearRegression\n",
    "from sklearn import tree\n",
    "from sklearn.linear_model import Lasso, LogisticRegression, Ridge\n",
    "from sklearn.model_selection import cross_val_score\n",
    "from sklearn.svm import SVR\n",
    "import tensorflow as tf\n",
    "from tensorflow import keras\n",
    "from tensorflow.keras import layers\n",
    "from keras.callbacks import EarlyStopping\n",
    "from sklearn.metrics import mean_squared_error, r2_score \n",
    "import warnings\n",
    "warnings.filterwarnings(\"ignore\")"
   ]
  },
  {
   "cell_type": "markdown",
   "id": "6c54f9f0-4078-41d8-8133-db7e2e9f3373",
   "metadata": {},
   "source": [
    "#### Importing diamond price prediction dataset"
   ]
  },
  {
   "cell_type": "code",
   "execution_count": 123,
   "id": "2d1ed695-465c-4d22-82c3-ba1fdeb531ab",
   "metadata": {},
   "outputs": [],
   "source": [
    "train_dataset = pd.read_csv('./train.csv')"
   ]
  },
  {
   "cell_type": "code",
   "execution_count": 124,
   "id": "7f8554bf-fb04-486d-b702-07f079d5b44e",
   "metadata": {},
   "outputs": [
    {
     "data": {
      "text/html": [
       "<div>\n",
       "<style scoped>\n",
       "    .dataframe tbody tr th:only-of-type {\n",
       "        vertical-align: middle;\n",
       "    }\n",
       "\n",
       "    .dataframe tbody tr th {\n",
       "        vertical-align: top;\n",
       "    }\n",
       "\n",
       "    .dataframe thead th {\n",
       "        text-align: right;\n",
       "    }\n",
       "</style>\n",
       "<table border=\"1\" class=\"dataframe\">\n",
       "  <thead>\n",
       "    <tr style=\"text-align: right;\">\n",
       "      <th></th>\n",
       "      <th>id</th>\n",
       "      <th>carat</th>\n",
       "      <th>cut</th>\n",
       "      <th>color</th>\n",
       "      <th>clarity</th>\n",
       "      <th>depth</th>\n",
       "      <th>table</th>\n",
       "      <th>x</th>\n",
       "      <th>y</th>\n",
       "      <th>z</th>\n",
       "      <th>price</th>\n",
       "    </tr>\n",
       "  </thead>\n",
       "  <tbody>\n",
       "    <tr>\n",
       "      <th>0</th>\n",
       "      <td>0</td>\n",
       "      <td>1.52</td>\n",
       "      <td>Premium</td>\n",
       "      <td>F</td>\n",
       "      <td>VS2</td>\n",
       "      <td>62.2</td>\n",
       "      <td>58.0</td>\n",
       "      <td>7.27</td>\n",
       "      <td>7.33</td>\n",
       "      <td>4.55</td>\n",
       "      <td>13619</td>\n",
       "    </tr>\n",
       "    <tr>\n",
       "      <th>1</th>\n",
       "      <td>1</td>\n",
       "      <td>2.03</td>\n",
       "      <td>Very Good</td>\n",
       "      <td>J</td>\n",
       "      <td>SI2</td>\n",
       "      <td>62.0</td>\n",
       "      <td>58.0</td>\n",
       "      <td>8.06</td>\n",
       "      <td>8.12</td>\n",
       "      <td>5.05</td>\n",
       "      <td>13387</td>\n",
       "    </tr>\n",
       "    <tr>\n",
       "      <th>2</th>\n",
       "      <td>2</td>\n",
       "      <td>0.70</td>\n",
       "      <td>Ideal</td>\n",
       "      <td>G</td>\n",
       "      <td>VS1</td>\n",
       "      <td>61.2</td>\n",
       "      <td>57.0</td>\n",
       "      <td>5.69</td>\n",
       "      <td>5.73</td>\n",
       "      <td>3.50</td>\n",
       "      <td>2772</td>\n",
       "    </tr>\n",
       "    <tr>\n",
       "      <th>3</th>\n",
       "      <td>3</td>\n",
       "      <td>0.32</td>\n",
       "      <td>Ideal</td>\n",
       "      <td>G</td>\n",
       "      <td>VS1</td>\n",
       "      <td>61.6</td>\n",
       "      <td>56.0</td>\n",
       "      <td>4.38</td>\n",
       "      <td>4.41</td>\n",
       "      <td>2.71</td>\n",
       "      <td>666</td>\n",
       "    </tr>\n",
       "    <tr>\n",
       "      <th>4</th>\n",
       "      <td>4</td>\n",
       "      <td>1.70</td>\n",
       "      <td>Premium</td>\n",
       "      <td>G</td>\n",
       "      <td>VS2</td>\n",
       "      <td>62.6</td>\n",
       "      <td>59.0</td>\n",
       "      <td>7.65</td>\n",
       "      <td>7.61</td>\n",
       "      <td>4.77</td>\n",
       "      <td>14453</td>\n",
       "    </tr>\n",
       "  </tbody>\n",
       "</table>\n",
       "</div>"
      ],
      "text/plain": [
       "   id  carat        cut color clarity  depth  table     x     y     z  price\n",
       "0   0   1.52    Premium     F     VS2   62.2   58.0  7.27  7.33  4.55  13619\n",
       "1   1   2.03  Very Good     J     SI2   62.0   58.0  8.06  8.12  5.05  13387\n",
       "2   2   0.70      Ideal     G     VS1   61.2   57.0  5.69  5.73  3.50   2772\n",
       "3   3   0.32      Ideal     G     VS1   61.6   56.0  4.38  4.41  2.71    666\n",
       "4   4   1.70    Premium     G     VS2   62.6   59.0  7.65  7.61  4.77  14453"
      ]
     },
     "execution_count": 124,
     "metadata": {},
     "output_type": "execute_result"
    }
   ],
   "source": [
    "train_dataset.head(5)"
   ]
  },
  {
   "cell_type": "markdown",
   "id": "79d86bb1-5ae1-40a5-a913-e6a6e071f5a6",
   "metadata": {},
   "source": [
    "#### Dataset features </br>\n",
    "\n",
    "Id - Diamond sample ID </br>\n",
    "Carat -  Caret weight of the diamond </br>\n",
    "Cut - Cut quality of the diamond </br>\n",
    "Color - Color of the diamond with D being the best and J being the worst </br>\n",
    "Clarity - Clarity of the diamond </br>\n",
    "Depth -  The height of a diamond, measured from the culet to the table, divided by its average girdle diameter </br>\n",
    "Table - The width of the diamond's table expressed as a percentage of its average diameter </br>\n",
    "X - Length of the diamond in mm </br>\n",
    "Y - Width of the diamond in mm </br>\n",
    "Z - Height of the diamond in mm </br>\n",
    "Price - Price of the diamond </br>"
   ]
  },
  {
   "cell_type": "markdown",
   "id": "36c42305-285d-4c2a-bf84-b4bfbcd0193f",
   "metadata": {},
   "source": [
    "#### Priliminary analysis and feature engineering"
   ]
  },
  {
   "cell_type": "code",
   "execution_count": 125,
   "id": "e6b08ec7-926c-43c4-8231-d5e454aa6a28",
   "metadata": {},
   "outputs": [
    {
     "data": {
      "text/plain": [
       "(193573, 11)"
      ]
     },
     "execution_count": 125,
     "metadata": {},
     "output_type": "execute_result"
    }
   ],
   "source": [
    "train_dataset.shape"
   ]
  },
  {
   "cell_type": "markdown",
   "id": "bc1237eb-4ea8-4cb1-ade1-acecc750adae",
   "metadata": {},
   "source": [
    "The diamond dataset consists of 11 features and 193573 observations. Here observations are samples of variety of diamonds and their features. In this 11 features we can consider price feature as our target variable."
   ]
  },
  {
   "cell_type": "code",
   "execution_count": 126,
   "id": "5d635b52-12f8-4813-af94-1c18137e0ab9",
   "metadata": {},
   "outputs": [
    {
     "name": "stdout",
     "output_type": "stream",
     "text": [
      "<class 'pandas.core.frame.DataFrame'>\n",
      "RangeIndex: 193573 entries, 0 to 193572\n",
      "Data columns (total 11 columns):\n",
      " #   Column   Non-Null Count   Dtype  \n",
      "---  ------   --------------   -----  \n",
      " 0   id       193573 non-null  int64  \n",
      " 1   carat    193573 non-null  float64\n",
      " 2   cut      193573 non-null  object \n",
      " 3   color    193573 non-null  object \n",
      " 4   clarity  193573 non-null  object \n",
      " 5   depth    193573 non-null  float64\n",
      " 6   table    193573 non-null  float64\n",
      " 7   x        193573 non-null  float64\n",
      " 8   y        193573 non-null  float64\n",
      " 9   z        193573 non-null  float64\n",
      " 10  price    193573 non-null  int64  \n",
      "dtypes: float64(6), int64(2), object(3)\n",
      "memory usage: 16.2+ MB\n"
     ]
    }
   ],
   "source": [
    "train_dataset.info()"
   ]
  },
  {
   "cell_type": "markdown",
   "id": "485a5b70-5972-4a87-ab5f-958811183777",
   "metadata": {},
   "source": [
    "This is the summary of the dataset which includes columns and its datatypes along with non-null values. "
   ]
  },
  {
   "cell_type": "code",
   "execution_count": 127,
   "id": "2c93c580-b841-4f93-b735-1f539bbbf48b",
   "metadata": {},
   "outputs": [
    {
     "data": {
      "text/html": [
       "<div>\n",
       "<style scoped>\n",
       "    .dataframe tbody tr th:only-of-type {\n",
       "        vertical-align: middle;\n",
       "    }\n",
       "\n",
       "    .dataframe tbody tr th {\n",
       "        vertical-align: top;\n",
       "    }\n",
       "\n",
       "    .dataframe thead th {\n",
       "        text-align: right;\n",
       "    }\n",
       "</style>\n",
       "<table border=\"1\" class=\"dataframe\">\n",
       "  <thead>\n",
       "    <tr style=\"text-align: right;\">\n",
       "      <th></th>\n",
       "      <th>id</th>\n",
       "      <th>carat</th>\n",
       "      <th>depth</th>\n",
       "      <th>table</th>\n",
       "      <th>x</th>\n",
       "      <th>y</th>\n",
       "      <th>z</th>\n",
       "      <th>price</th>\n",
       "    </tr>\n",
       "  </thead>\n",
       "  <tbody>\n",
       "    <tr>\n",
       "      <th>count</th>\n",
       "      <td>193573.000000</td>\n",
       "      <td>193573.000000</td>\n",
       "      <td>193573.000000</td>\n",
       "      <td>193573.000000</td>\n",
       "      <td>193573.000000</td>\n",
       "      <td>193573.000000</td>\n",
       "      <td>193573.000000</td>\n",
       "      <td>193573.000000</td>\n",
       "    </tr>\n",
       "    <tr>\n",
       "      <th>mean</th>\n",
       "      <td>96786.000000</td>\n",
       "      <td>0.790688</td>\n",
       "      <td>61.820574</td>\n",
       "      <td>57.227675</td>\n",
       "      <td>5.715312</td>\n",
       "      <td>5.720094</td>\n",
       "      <td>3.534246</td>\n",
       "      <td>3969.155414</td>\n",
       "    </tr>\n",
       "    <tr>\n",
       "      <th>std</th>\n",
       "      <td>55879.856166</td>\n",
       "      <td>0.462688</td>\n",
       "      <td>1.081704</td>\n",
       "      <td>1.918844</td>\n",
       "      <td>1.109422</td>\n",
       "      <td>1.102333</td>\n",
       "      <td>0.688922</td>\n",
       "      <td>4034.374138</td>\n",
       "    </tr>\n",
       "    <tr>\n",
       "      <th>min</th>\n",
       "      <td>0.000000</td>\n",
       "      <td>0.200000</td>\n",
       "      <td>52.100000</td>\n",
       "      <td>49.000000</td>\n",
       "      <td>0.000000</td>\n",
       "      <td>0.000000</td>\n",
       "      <td>0.000000</td>\n",
       "      <td>326.000000</td>\n",
       "    </tr>\n",
       "    <tr>\n",
       "      <th>25%</th>\n",
       "      <td>48393.000000</td>\n",
       "      <td>0.400000</td>\n",
       "      <td>61.300000</td>\n",
       "      <td>56.000000</td>\n",
       "      <td>4.700000</td>\n",
       "      <td>4.710000</td>\n",
       "      <td>2.900000</td>\n",
       "      <td>951.000000</td>\n",
       "    </tr>\n",
       "    <tr>\n",
       "      <th>50%</th>\n",
       "      <td>96786.000000</td>\n",
       "      <td>0.700000</td>\n",
       "      <td>61.900000</td>\n",
       "      <td>57.000000</td>\n",
       "      <td>5.700000</td>\n",
       "      <td>5.720000</td>\n",
       "      <td>3.530000</td>\n",
       "      <td>2401.000000</td>\n",
       "    </tr>\n",
       "    <tr>\n",
       "      <th>75%</th>\n",
       "      <td>145179.000000</td>\n",
       "      <td>1.030000</td>\n",
       "      <td>62.400000</td>\n",
       "      <td>58.000000</td>\n",
       "      <td>6.510000</td>\n",
       "      <td>6.510000</td>\n",
       "      <td>4.030000</td>\n",
       "      <td>5408.000000</td>\n",
       "    </tr>\n",
       "    <tr>\n",
       "      <th>max</th>\n",
       "      <td>193572.000000</td>\n",
       "      <td>3.500000</td>\n",
       "      <td>71.600000</td>\n",
       "      <td>79.000000</td>\n",
       "      <td>9.650000</td>\n",
       "      <td>10.010000</td>\n",
       "      <td>31.300000</td>\n",
       "      <td>18818.000000</td>\n",
       "    </tr>\n",
       "  </tbody>\n",
       "</table>\n",
       "</div>"
      ],
      "text/plain": [
       "                  id          carat          depth          table  \\\n",
       "count  193573.000000  193573.000000  193573.000000  193573.000000   \n",
       "mean    96786.000000       0.790688      61.820574      57.227675   \n",
       "std     55879.856166       0.462688       1.081704       1.918844   \n",
       "min         0.000000       0.200000      52.100000      49.000000   \n",
       "25%     48393.000000       0.400000      61.300000      56.000000   \n",
       "50%     96786.000000       0.700000      61.900000      57.000000   \n",
       "75%    145179.000000       1.030000      62.400000      58.000000   \n",
       "max    193572.000000       3.500000      71.600000      79.000000   \n",
       "\n",
       "                   x              y              z          price  \n",
       "count  193573.000000  193573.000000  193573.000000  193573.000000  \n",
       "mean        5.715312       5.720094       3.534246    3969.155414  \n",
       "std         1.109422       1.102333       0.688922    4034.374138  \n",
       "min         0.000000       0.000000       0.000000     326.000000  \n",
       "25%         4.700000       4.710000       2.900000     951.000000  \n",
       "50%         5.700000       5.720000       3.530000    2401.000000  \n",
       "75%         6.510000       6.510000       4.030000    5408.000000  \n",
       "max         9.650000      10.010000      31.300000   18818.000000  "
      ]
     },
     "execution_count": 127,
     "metadata": {},
     "output_type": "execute_result"
    }
   ],
   "source": [
    "train_dataset.describe()"
   ]
  },
  {
   "cell_type": "markdown",
   "id": "06df2f78-44c7-495a-aea8-b74cd4d77d9a",
   "metadata": {},
   "source": [
    "This is descriptive statistics of of numerical columns in the dataset."
   ]
  },
  {
   "cell_type": "code",
   "execution_count": 128,
   "id": "2154919e-e39d-45e5-a339-b31d9c9502b8",
   "metadata": {},
   "outputs": [
    {
     "data": {
      "text/plain": [
       "id         0\n",
       "carat      0\n",
       "cut        0\n",
       "color      0\n",
       "clarity    0\n",
       "depth      0\n",
       "table      0\n",
       "x          0\n",
       "y          0\n",
       "z          0\n",
       "price      0\n",
       "dtype: int64"
      ]
     },
     "execution_count": 128,
     "metadata": {},
     "output_type": "execute_result"
    }
   ],
   "source": [
    "train_dataset.isnull().sum()"
   ]
  },
  {
   "cell_type": "markdown",
   "id": "60b74f4d-c80a-40bf-a61e-a782244f124c",
   "metadata": {},
   "source": [
    "Checking for null values in the dataset. Here we can observe that there are no null values in the dataset."
   ]
  },
  {
   "cell_type": "code",
   "execution_count": 129,
   "id": "7ce040b2-6dd6-4ee8-a29b-f433dc8745e3",
   "metadata": {},
   "outputs": [
    {
     "data": {
      "text/plain": [
       "0"
      ]
     },
     "execution_count": 129,
     "metadata": {},
     "output_type": "execute_result"
    }
   ],
   "source": [
    "train_dataset.duplicated().sum()"
   ]
  },
  {
   "cell_type": "markdown",
   "id": "636530bf-b522-4dff-a5bf-206aec978513",
   "metadata": {},
   "source": [
    "Checking for duplicates in the dataset. Here we can observe that there are no duplicates in the dataset."
   ]
  },
  {
   "cell_type": "code",
   "execution_count": 130,
   "id": "115b3503-b82a-430e-aa4e-a440496a431d",
   "metadata": {},
   "outputs": [],
   "source": [
    "train_dataset.drop(['id'], axis = 1, inplace = True)"
   ]
  },
  {
   "cell_type": "markdown",
   "id": "72e4881f-b393-43a3-9816-09683a4d1007",
   "metadata": {},
   "source": [
    "Since ID is just the diamond sample number and not a diamond feature which has no impact on the dimond price pridction. Hence we can drop the id feature from the dataset."
   ]
  },
  {
   "cell_type": "code",
   "execution_count": 131,
   "id": "b80c8ecd-5b5f-4be3-ba23-8d865eeff137",
   "metadata": {},
   "outputs": [
    {
     "name": "stdout",
     "output_type": "stream",
     "text": [
      "The different categorical values for cut are -  ['Premium' 'Very Good' 'Ideal' 'Good' 'Fair']\n",
      "The different categorical values for clarity are -  ['VS2' 'SI2' 'VS1' 'SI1' 'IF' 'VVS2' 'VVS1' 'I1']\n",
      "The different categorical values for color are -  ['F' 'J' 'G' 'E' 'D' 'H' 'I']\n"
     ]
    }
   ],
   "source": [
    "print('The different categorical values for cut are - ', train_dataset['cut'].unique())\n",
    "print('The different categorical values for clarity are - ', train_dataset['clarity'].unique())\n",
    "print('The different categorical values for color are - ', train_dataset['color'].unique())"
   ]
  },
  {
   "cell_type": "markdown",
   "id": "ce40d1e1-c9bd-4f3f-8d77-2e7c36a969b0",
   "metadata": {},
   "source": [
    "In this dataset we have three categorical features i'e Cut, Clarity and Color. Here we can see different values used in these categorical features."
   ]
  },
  {
   "cell_type": "code",
   "execution_count": 132,
   "id": "75956075-ba12-4fb2-ac54-f13d7b5b2ec1",
   "metadata": {},
   "outputs": [
    {
     "data": {
      "text/plain": [
       "[Text(0, 0, '49910'),\n",
       " Text(0, 0, '37566'),\n",
       " Text(0, 0, '92454'),\n",
       " Text(0, 0, '11622'),\n",
       " Text(0, 0, '2021')]"
      ]
     },
     "execution_count": 132,
     "metadata": {},
     "output_type": "execute_result"
    },
    {
     "data": {
      "image/png": "[encoded data removed]",
      "text/plain": [
       "<Figure size 600x500 with 1 Axes>"
      ]
     },
     "metadata": {},
     "output_type": "display_data"
    }
   ],
   "source": [
    "plt.figure(figsize=(6,5))\n",
    "cut_plot = sns.countplot(data=train_dataset, x='cut', palette=sns.color_palette(\"pastel\"))\n",
    "cut_plot.bar_label(cut_plot.containers[0])"
   ]
  },
  {
   "cell_type": "code",
   "execution_count": 133,
   "id": "abffe79c-4c0b-40c6-930c-08ae2aea6a7b",
   "metadata": {},
   "outputs": [
    {
     "data": {
      "text/plain": [
       "[Text(0, 0, '48027'),\n",
       " Text(0, 0, '30484'),\n",
       " Text(0, 0, '30669'),\n",
       " Text(0, 0, '53272'),\n",
       " Text(0, 0, '4219'),\n",
       " Text(0, 0, '15762'),\n",
       " Text(0, 0, '10628'),\n",
       " Text(0, 0, '512')]"
      ]
     },
     "execution_count": 133,
     "metadata": {},
     "output_type": "execute_result"
    },
    {
     "data": {
      "image/png": "[encoded data removed]",
      "text/plain": [
       "<Figure size 600x500 with 1 Axes>"
      ]
     },
     "metadata": {},
     "output_type": "display_data"
    }
   ],
   "source": [
    "plt.figure(figsize=(6,5))\n",
    "cut_plot = sns.countplot(data=train_dataset, x='clarity', palette=sns.color_palette(\"pastel\"))\n",
    "cut_plot.bar_label(cut_plot.containers[0])"
   ]
  },
  {
   "cell_type": "code",
   "execution_count": 134,
   "id": "95f50c16-7864-4910-93ce-55b56c953272",
   "metadata": {},
   "outputs": [
    {
     "data": {
      "text/plain": [
       "[Text(0, 0, '34258'),\n",
       " Text(0, 0, '6456'),\n",
       " Text(0, 0, '44391'),\n",
       " Text(0, 0, '35869'),\n",
       " Text(0, 0, '24286'),\n",
       " Text(0, 0, '30799'),\n",
       " Text(0, 0, '17514')]"
      ]
     },
     "execution_count": 134,
     "metadata": {},
     "output_type": "execute_result"
    },
    {
     "data": {
      "image/png": "[encoded data removed]",
      "text/plain": [
       "<Figure size 600x500 with 1 Axes>"
      ]
     },
     "metadata": {},
     "output_type": "display_data"
    }
   ],
   "source": [
    "plt.figure(figsize=(6,5))\n",
    "cut_plot = sns.countplot(data=train_dataset, x='color', palette=sns.color_palette(\"pastel\"))\n",
    "cut_plot.bar_label(cut_plot.containers[0])"
   ]
  },
  {
   "cell_type": "markdown",
   "id": "7bb69473-cff6-4c70-bfe2-918c440c9dd8",
   "metadata": {},
   "source": [
    "Here we can see the count plot of these categorical features which indicates the number of diamond samples per categorical value of each feature."
   ]
  },
  {
   "cell_type": "markdown",
   "id": "0c794851-f123-4e9f-9e6e-23cb38c451a8",
   "metadata": {},
   "source": [
    "<hr></hr>\n",
    "Ordinal encoding is the process of converting the categorical data into numerical data. Here we will be converting cut, color and clarity categorical features before proceding further and using this data in training the machine learning models."
   ]
  },
  {
   "cell_type": "code",
   "execution_count": 136,
   "id": "03568e4e-6e1c-4d38-b7ef-df13f8c61735",
   "metadata": {},
   "outputs": [],
   "source": [
    "def ordinalEncoderFn(data, column_names):\n",
    "  encoder = OrdinalEncoder()\n",
    "  encoder.fit(data[column_names])\n",
    "  data[column_names] = encoder.transform(data[column_names])\n",
    "  return data"
   ]
  },
  {
   "cell_type": "code",
   "execution_count": 137,
   "id": "1ef89d3b-98d0-413b-a31b-71c630e8a486",
   "metadata": {},
   "outputs": [
    {
     "data": {
      "text/html": [
       "<div>\n",
       "<style scoped>\n",
       "    .dataframe tbody tr th:only-of-type {\n",
       "        vertical-align: middle;\n",
       "    }\n",
       "\n",
       "    .dataframe tbody tr th {\n",
       "        vertical-align: top;\n",
       "    }\n",
       "\n",
       "    .dataframe thead th {\n",
       "        text-align: right;\n",
       "    }\n",
       "</style>\n",
       "<table border=\"1\" class=\"dataframe\">\n",
       "  <thead>\n",
       "    <tr style=\"text-align: right;\">\n",
       "      <th></th>\n",
       "      <th>carat</th>\n",
       "      <th>cut</th>\n",
       "      <th>color</th>\n",
       "      <th>clarity</th>\n",
       "      <th>depth</th>\n",
       "      <th>table</th>\n",
       "      <th>x</th>\n",
       "      <th>y</th>\n",
       "      <th>z</th>\n",
       "      <th>price</th>\n",
       "    </tr>\n",
       "  </thead>\n",
       "  <tbody>\n",
       "    <tr>\n",
       "      <th>0</th>\n",
       "      <td>1.52</td>\n",
       "      <td>3.0</td>\n",
       "      <td>2.0</td>\n",
       "      <td>5.0</td>\n",
       "      <td>62.2</td>\n",
       "      <td>58.0</td>\n",
       "      <td>7.27</td>\n",
       "      <td>7.33</td>\n",
       "      <td>4.55</td>\n",
       "      <td>13619</td>\n",
       "    </tr>\n",
       "    <tr>\n",
       "      <th>1</th>\n",
       "      <td>2.03</td>\n",
       "      <td>4.0</td>\n",
       "      <td>6.0</td>\n",
       "      <td>3.0</td>\n",
       "      <td>62.0</td>\n",
       "      <td>58.0</td>\n",
       "      <td>8.06</td>\n",
       "      <td>8.12</td>\n",
       "      <td>5.05</td>\n",
       "      <td>13387</td>\n",
       "    </tr>\n",
       "    <tr>\n",
       "      <th>2</th>\n",
       "      <td>0.70</td>\n",
       "      <td>2.0</td>\n",
       "      <td>3.0</td>\n",
       "      <td>4.0</td>\n",
       "      <td>61.2</td>\n",
       "      <td>57.0</td>\n",
       "      <td>5.69</td>\n",
       "      <td>5.73</td>\n",
       "      <td>3.50</td>\n",
       "      <td>2772</td>\n",
       "    </tr>\n",
       "    <tr>\n",
       "      <th>3</th>\n",
       "      <td>0.32</td>\n",
       "      <td>2.0</td>\n",
       "      <td>3.0</td>\n",
       "      <td>4.0</td>\n",
       "      <td>61.6</td>\n",
       "      <td>56.0</td>\n",
       "      <td>4.38</td>\n",
       "      <td>4.41</td>\n",
       "      <td>2.71</td>\n",
       "      <td>666</td>\n",
       "    </tr>\n",
       "    <tr>\n",
       "      <th>4</th>\n",
       "      <td>1.70</td>\n",
       "      <td>3.0</td>\n",
       "      <td>3.0</td>\n",
       "      <td>5.0</td>\n",
       "      <td>62.6</td>\n",
       "      <td>59.0</td>\n",
       "      <td>7.65</td>\n",
       "      <td>7.61</td>\n",
       "      <td>4.77</td>\n",
       "      <td>14453</td>\n",
       "    </tr>\n",
       "    <tr>\n",
       "      <th>...</th>\n",
       "      <td>...</td>\n",
       "      <td>...</td>\n",
       "      <td>...</td>\n",
       "      <td>...</td>\n",
       "      <td>...</td>\n",
       "      <td>...</td>\n",
       "      <td>...</td>\n",
       "      <td>...</td>\n",
       "      <td>...</td>\n",
       "      <td>...</td>\n",
       "    </tr>\n",
       "    <tr>\n",
       "      <th>193568</th>\n",
       "      <td>0.31</td>\n",
       "      <td>2.0</td>\n",
       "      <td>0.0</td>\n",
       "      <td>7.0</td>\n",
       "      <td>61.1</td>\n",
       "      <td>56.0</td>\n",
       "      <td>4.35</td>\n",
       "      <td>4.39</td>\n",
       "      <td>2.67</td>\n",
       "      <td>1130</td>\n",
       "    </tr>\n",
       "    <tr>\n",
       "      <th>193569</th>\n",
       "      <td>0.70</td>\n",
       "      <td>3.0</td>\n",
       "      <td>3.0</td>\n",
       "      <td>7.0</td>\n",
       "      <td>60.3</td>\n",
       "      <td>58.0</td>\n",
       "      <td>5.75</td>\n",
       "      <td>5.77</td>\n",
       "      <td>3.47</td>\n",
       "      <td>2874</td>\n",
       "    </tr>\n",
       "    <tr>\n",
       "      <th>193570</th>\n",
       "      <td>0.73</td>\n",
       "      <td>4.0</td>\n",
       "      <td>2.0</td>\n",
       "      <td>2.0</td>\n",
       "      <td>63.1</td>\n",
       "      <td>57.0</td>\n",
       "      <td>5.72</td>\n",
       "      <td>5.75</td>\n",
       "      <td>3.62</td>\n",
       "      <td>3036</td>\n",
       "    </tr>\n",
       "    <tr>\n",
       "      <th>193571</th>\n",
       "      <td>0.34</td>\n",
       "      <td>4.0</td>\n",
       "      <td>0.0</td>\n",
       "      <td>2.0</td>\n",
       "      <td>62.9</td>\n",
       "      <td>55.0</td>\n",
       "      <td>4.45</td>\n",
       "      <td>4.49</td>\n",
       "      <td>2.81</td>\n",
       "      <td>681</td>\n",
       "    </tr>\n",
       "    <tr>\n",
       "      <th>193572</th>\n",
       "      <td>0.71</td>\n",
       "      <td>1.0</td>\n",
       "      <td>1.0</td>\n",
       "      <td>3.0</td>\n",
       "      <td>60.8</td>\n",
       "      <td>64.0</td>\n",
       "      <td>5.73</td>\n",
       "      <td>5.71</td>\n",
       "      <td>3.48</td>\n",
       "      <td>2258</td>\n",
       "    </tr>\n",
       "  </tbody>\n",
       "</table>\n",
       "<p>193573 rows × 10 columns</p>\n",
       "</div>"
      ],
      "text/plain": [
       "        carat  cut  color  clarity  depth  table     x     y     z  price\n",
       "0        1.52  3.0    2.0      5.0   62.2   58.0  7.27  7.33  4.55  13619\n",
       "1        2.03  4.0    6.0      3.0   62.0   58.0  8.06  8.12  5.05  13387\n",
       "2        0.70  2.0    3.0      4.0   61.2   57.0  5.69  5.73  3.50   2772\n",
       "3        0.32  2.0    3.0      4.0   61.6   56.0  4.38  4.41  2.71    666\n",
       "4        1.70  3.0    3.0      5.0   62.6   59.0  7.65  7.61  4.77  14453\n",
       "...       ...  ...    ...      ...    ...    ...   ...   ...   ...    ...\n",
       "193568   0.31  2.0    0.0      7.0   61.1   56.0  4.35  4.39  2.67   1130\n",
       "193569   0.70  3.0    3.0      7.0   60.3   58.0  5.75  5.77  3.47   2874\n",
       "193570   0.73  4.0    2.0      2.0   63.1   57.0  5.72  5.75  3.62   3036\n",
       "193571   0.34  4.0    0.0      2.0   62.9   55.0  4.45  4.49  2.81    681\n",
       "193572   0.71  1.0    1.0      3.0   60.8   64.0  5.73  5.71  3.48   2258\n",
       "\n",
       "[193573 rows x 10 columns]"
      ]
     },
     "execution_count": 137,
     "metadata": {},
     "output_type": "execute_result"
    }
   ],
   "source": [
    "encodedData = train_dataset.copy()\n",
    "ordinalEncoderFn(encodedData, ['cut',\t'color', 'clarity'])\n",
    "encodedData"
   ]
  },
  {
   "cell_type": "markdown",
   "id": "118746e9-536f-4932-b349-42e268d1ed0e",
   "metadata": {},
   "source": [
    "Once ordinal encoding is performed, we will be scaling the data using the StandardScaler method. Since all the features has different scales in the dataset, I choose the StandardScaler for scaling the data to ensure that all features contribute to the learning process equally."
   ]
  },
  {
   "cell_type": "code",
   "execution_count": 138,
   "id": "a16f433a-390c-4bbe-8653-a232c04a09ff",
   "metadata": {},
   "outputs": [
    {
     "data": {
      "text/html": [
       "<div>\n",
       "<style scoped>\n",
       "    .dataframe tbody tr th:only-of-type {\n",
       "        vertical-align: middle;\n",
       "    }\n",
       "\n",
       "    .dataframe tbody tr th {\n",
       "        vertical-align: top;\n",
       "    }\n",
       "\n",
       "    .dataframe thead th {\n",
       "        text-align: right;\n",
       "    }\n",
       "</style>\n",
       "<table border=\"1\" class=\"dataframe\">\n",
       "  <thead>\n",
       "    <tr style=\"text-align: right;\">\n",
       "      <th></th>\n",
       "      <th>carat</th>\n",
       "      <th>cut</th>\n",
       "      <th>color</th>\n",
       "      <th>clarity</th>\n",
       "      <th>depth</th>\n",
       "      <th>table</th>\n",
       "      <th>x</th>\n",
       "      <th>y</th>\n",
       "      <th>z</th>\n",
       "      <th>price</th>\n",
       "    </tr>\n",
       "  </thead>\n",
       "  <tbody>\n",
       "    <tr>\n",
       "      <th>0</th>\n",
       "      <td>1.576255</td>\n",
       "      <td>0.481316</td>\n",
       "      <td>-0.318009</td>\n",
       "      <td>0.723930</td>\n",
       "      <td>0.350768</td>\n",
       "      <td>0.402496</td>\n",
       "      <td>1.401353</td>\n",
       "      <td>1.460456</td>\n",
       "      <td>1.474414</td>\n",
       "      <td>2.391912</td>\n",
       "    </tr>\n",
       "    <tr>\n",
       "      <th>1</th>\n",
       "      <td>2.678513</td>\n",
       "      <td>1.587913</td>\n",
       "      <td>2.146431</td>\n",
       "      <td>-0.501349</td>\n",
       "      <td>0.165874</td>\n",
       "      <td>0.402496</td>\n",
       "      <td>2.113437</td>\n",
       "      <td>2.177120</td>\n",
       "      <td>2.200187</td>\n",
       "      <td>2.334406</td>\n",
       "    </tr>\n",
       "    <tr>\n",
       "      <th>2</th>\n",
       "      <td>-0.196003</td>\n",
       "      <td>-0.625280</td>\n",
       "      <td>0.298101</td>\n",
       "      <td>0.111291</td>\n",
       "      <td>-0.573702</td>\n",
       "      <td>-0.118652</td>\n",
       "      <td>-0.022816</td>\n",
       "      <td>0.008986</td>\n",
       "      <td>-0.049710</td>\n",
       "      <td>-0.296740</td>\n",
       "    </tr>\n",
       "    <tr>\n",
       "      <th>3</th>\n",
       "      <td>-1.017293</td>\n",
       "      <td>-0.625280</td>\n",
       "      <td>0.298101</td>\n",
       "      <td>0.111291</td>\n",
       "      <td>-0.203914</td>\n",
       "      <td>-0.639801</td>\n",
       "      <td>-1.203614</td>\n",
       "      <td>-1.188477</td>\n",
       "      <td>-1.196432</td>\n",
       "      <td>-0.818755</td>\n",
       "    </tr>\n",
       "    <tr>\n",
       "      <th>4</th>\n",
       "      <td>1.965288</td>\n",
       "      <td>0.481316</td>\n",
       "      <td>0.298101</td>\n",
       "      <td>0.723930</td>\n",
       "      <td>0.720555</td>\n",
       "      <td>0.923644</td>\n",
       "      <td>1.743874</td>\n",
       "      <td>1.714463</td>\n",
       "      <td>1.793754</td>\n",
       "      <td>2.598636</td>\n",
       "    </tr>\n",
       "    <tr>\n",
       "      <th>...</th>\n",
       "      <td>...</td>\n",
       "      <td>...</td>\n",
       "      <td>...</td>\n",
       "      <td>...</td>\n",
       "      <td>...</td>\n",
       "      <td>...</td>\n",
       "      <td>...</td>\n",
       "      <td>...</td>\n",
       "      <td>...</td>\n",
       "      <td>...</td>\n",
       "    </tr>\n",
       "    <tr>\n",
       "      <th>193568</th>\n",
       "      <td>-1.038906</td>\n",
       "      <td>-0.625280</td>\n",
       "      <td>-1.550229</td>\n",
       "      <td>1.949210</td>\n",
       "      <td>-0.666149</td>\n",
       "      <td>-0.639801</td>\n",
       "      <td>-1.230655</td>\n",
       "      <td>-1.206620</td>\n",
       "      <td>-1.254494</td>\n",
       "      <td>-0.703743</td>\n",
       "    </tr>\n",
       "    <tr>\n",
       "      <th>193569</th>\n",
       "      <td>-0.196003</td>\n",
       "      <td>0.481316</td>\n",
       "      <td>0.298101</td>\n",
       "      <td>1.949210</td>\n",
       "      <td>-1.405724</td>\n",
       "      <td>0.402496</td>\n",
       "      <td>0.031267</td>\n",
       "      <td>0.045273</td>\n",
       "      <td>-0.093257</td>\n",
       "      <td>-0.271457</td>\n",
       "    </tr>\n",
       "    <tr>\n",
       "      <th>193570</th>\n",
       "      <td>-0.131164</td>\n",
       "      <td>1.587913</td>\n",
       "      <td>-0.318009</td>\n",
       "      <td>-1.113989</td>\n",
       "      <td>1.182790</td>\n",
       "      <td>-0.118652</td>\n",
       "      <td>0.004226</td>\n",
       "      <td>0.027129</td>\n",
       "      <td>0.124475</td>\n",
       "      <td>-0.231302</td>\n",
       "    </tr>\n",
       "    <tr>\n",
       "      <th>193571</th>\n",
       "      <td>-0.974067</td>\n",
       "      <td>1.587913</td>\n",
       "      <td>-1.550229</td>\n",
       "      <td>-1.113989</td>\n",
       "      <td>0.997896</td>\n",
       "      <td>-1.160949</td>\n",
       "      <td>-1.140517</td>\n",
       "      <td>-1.115903</td>\n",
       "      <td>-1.051277</td>\n",
       "      <td>-0.815037</td>\n",
       "    </tr>\n",
       "    <tr>\n",
       "      <th>193572</th>\n",
       "      <td>-0.174390</td>\n",
       "      <td>-1.731876</td>\n",
       "      <td>-0.934119</td>\n",
       "      <td>-0.501349</td>\n",
       "      <td>-0.943490</td>\n",
       "      <td>3.529386</td>\n",
       "      <td>0.013239</td>\n",
       "      <td>-0.009157</td>\n",
       "      <td>-0.078741</td>\n",
       "      <td>-0.424145</td>\n",
       "    </tr>\n",
       "  </tbody>\n",
       "</table>\n",
       "<p>193573 rows × 10 columns</p>\n",
       "</div>"
      ],
      "text/plain": [
       "           carat       cut     color   clarity     depth     table         x  \\\n",
       "0       1.576255  0.481316 -0.318009  0.723930  0.350768  0.402496  1.401353   \n",
       "1       2.678513  1.587913  2.146431 -0.501349  0.165874  0.402496  2.113437   \n",
       "2      -0.196003 -0.625280  0.298101  0.111291 -0.573702 -0.118652 -0.022816   \n",
       "3      -1.017293 -0.625280  0.298101  0.111291 -0.203914 -0.639801 -1.203614   \n",
       "4       1.965288  0.481316  0.298101  0.723930  0.720555  0.923644  1.743874   \n",
       "...          ...       ...       ...       ...       ...       ...       ...   \n",
       "193568 -1.038906 -0.625280 -1.550229  1.949210 -0.666149 -0.639801 -1.230655   \n",
       "193569 -0.196003  0.481316  0.298101  1.949210 -1.405724  0.402496  0.031267   \n",
       "193570 -0.131164  1.587913 -0.318009 -1.113989  1.182790 -0.118652  0.004226   \n",
       "193571 -0.974067  1.587913 -1.550229 -1.113989  0.997896 -1.160949 -1.140517   \n",
       "193572 -0.174390 -1.731876 -0.934119 -0.501349 -0.943490  3.529386  0.013239   \n",
       "\n",
       "               y         z     price  \n",
       "0       1.460456  1.474414  2.391912  \n",
       "1       2.177120  2.200187  2.334406  \n",
       "2       0.008986 -0.049710 -0.296740  \n",
       "3      -1.188477 -1.196432 -0.818755  \n",
       "4       1.714463  1.793754  2.598636  \n",
       "...          ...       ...       ...  \n",
       "193568 -1.206620 -1.254494 -0.703743  \n",
       "193569  0.045273 -0.093257 -0.271457  \n",
       "193570  0.027129  0.124475 -0.231302  \n",
       "193571 -1.115903 -1.051277 -0.815037  \n",
       "193572 -0.009157 -0.078741 -0.424145  \n",
       "\n",
       "[193573 rows x 10 columns]"
      ]
     },
     "execution_count": 138,
     "metadata": {},
     "output_type": "execute_result"
    }
   ],
   "source": [
    "data_scaler = StandardScaler()\n",
    "scaled_data = data_scaler.fit_transform(encodedData)\n",
    "scaled_dataset = pd.DataFrame(scaled_data, columns=encodedData.columns)\n",
    "scaled_dataset"
   ]
  },
  {
   "cell_type": "code",
   "execution_count": 139,
   "id": "d8a82204-6870-47a3-850a-e1bed8153bc3",
   "metadata": {},
   "outputs": [
    {
     "data": {
      "image/png": "[encoded data removed]",
      "text/plain": [
       "<Figure size 640x480 with 1 Axes>"
      ]
     },
     "metadata": {},
     "output_type": "display_data"
    },
    {
     "data": {
      "image/png": "[encoded data removed]",
      "text/plain": [
       "<Figure size 640x480 with 1 Axes>"
      ]
     },
     "metadata": {},
     "output_type": "display_data"
    },
    {
     "data": {
      "image/png": "[encoded data removed]",
      "text/plain": [
       "<Figure size 640x480 with 1 Axes>"
      ]
     },
     "metadata": {},
     "output_type": "display_data"
    },
    {
     "data": {
      "image/png": "[encoded data removed]",
      "text/plain": [
       "<Figure size 640x480 with 1 Axes>"
      ]
     },
     "metadata": {},
     "output_type": "display_data"
    },
    {
     "data": {
      "image/png": "[encoded data removed]",
      "text/plain": [
       "<Figure size 640x480 with 1 Axes>"
      ]
     },
     "metadata": {},
     "output_type": "display_data"
    },
    {
     "data": {
      "image/png": "[encoded data removed]",
      "text/plain": [
       "<Figure size 640x480 with 1 Axes>"
      ]
     },
     "metadata": {},
     "output_type": "display_data"
    },
    {
     "data": {
      "image/png": "[encoded data removed]",
      "text/plain": [
       "<Figure size 640x480 with 1 Axes>"
      ]
     },
     "metadata": {},
     "output_type": "display_data"
    },
    {
     "data": {
      "image/png": "[encoded data removed]",
      "text/plain": [
       "<Figure size 640x480 with 1 Axes>"
      ]
     },
     "metadata": {},
     "output_type": "display_data"
    }
   ],
   "source": [
    "for i in scaled_dataset.columns[1:9]:\n",
    "    sns.histplot(data=scaled_dataset, x=i)\n",
    "    plt.show()"
   ]
  },
  {
   "cell_type": "markdown",
   "id": "b6cb621a-49a9-41b1-b12b-3a6e4d29cdc2",
   "metadata": {},
   "source": [
    "From the above histplots of all the features, we can conclude that data is skewed equally."
   ]
  },
  {
   "cell_type": "code",
   "execution_count": 140,
   "id": "3920bdb7-862a-47f8-9a32-0a7356bae2c2",
   "metadata": {
    "scrolled": true
   },
   "outputs": [
    {
     "data": {
      "image/png": "[encoded data removed]",
      "text/plain": [
       "<Figure size 1200x1000 with 2 Axes>"
      ]
     },
     "metadata": {},
     "output_type": "display_data"
    }
   ],
   "source": [
    "plt.figure(figsize = (12,10))\n",
    "sns.heatmap(scaled_dataset.corr(), center = 0, cmap = 'coolwarm', annot=True, fmt=\".3f\", linewidths=.5, annot_kws={\"size\": 12})\n",
    "plt.show()"
   ]
  },
  {
   "cell_type": "markdown",
   "id": "bad5d13b-d4f0-48e1-ad2d-4adba2556ccd",
   "metadata": {},
   "source": [
    "Since, priliminary analysis and feature engineering is performed on the dataset. Now, we can segregate the dataset into input and output data which we will be using to train the models. Since price is our output variable, we can drop this feature from the dataset and assign it to new variable 'output' and remaining data will be assigned to 'input' variable. Now we can use this input and output variables to train the models. "
   ]
  },
  {
   "cell_type": "code",
   "execution_count": 141,
   "id": "09b7fd96-5260-46b4-9b91-eb28ef7f7f48",
   "metadata": {},
   "outputs": [],
   "source": [
    "output = scaled_dataset['price']\n",
    "input = scaled_dataset.drop(['price'], axis=1)"
   ]
  },
  {
   "cell_type": "code",
   "execution_count": 142,
   "id": "ef7070b2-1a7e-4780-a2c4-aea718a7c90b",
   "metadata": {},
   "outputs": [
    {
     "data": {
      "text/html": [
       "<div>\n",
       "<style scoped>\n",
       "    .dataframe tbody tr th:only-of-type {\n",
       "        vertical-align: middle;\n",
       "    }\n",
       "\n",
       "    .dataframe tbody tr th {\n",
       "        vertical-align: top;\n",
       "    }\n",
       "\n",
       "    .dataframe thead th {\n",
       "        text-align: right;\n",
       "    }\n",
       "</style>\n",
       "<table border=\"1\" class=\"dataframe\">\n",
       "  <thead>\n",
       "    <tr style=\"text-align: right;\">\n",
       "      <th></th>\n",
       "      <th>carat</th>\n",
       "      <th>cut</th>\n",
       "      <th>color</th>\n",
       "      <th>clarity</th>\n",
       "      <th>depth</th>\n",
       "      <th>table</th>\n",
       "      <th>x</th>\n",
       "      <th>y</th>\n",
       "      <th>z</th>\n",
       "    </tr>\n",
       "  </thead>\n",
       "  <tbody>\n",
       "    <tr>\n",
       "      <th>0</th>\n",
       "      <td>1.576255</td>\n",
       "      <td>0.481316</td>\n",
       "      <td>-0.318009</td>\n",
       "      <td>0.723930</td>\n",
       "      <td>0.350768</td>\n",
       "      <td>0.402496</td>\n",
       "      <td>1.401353</td>\n",
       "      <td>1.460456</td>\n",
       "      <td>1.474414</td>\n",
       "    </tr>\n",
       "    <tr>\n",
       "      <th>1</th>\n",
       "      <td>2.678513</td>\n",
       "      <td>1.587913</td>\n",
       "      <td>2.146431</td>\n",
       "      <td>-0.501349</td>\n",
       "      <td>0.165874</td>\n",
       "      <td>0.402496</td>\n",
       "      <td>2.113437</td>\n",
       "      <td>2.177120</td>\n",
       "      <td>2.200187</td>\n",
       "    </tr>\n",
       "    <tr>\n",
       "      <th>2</th>\n",
       "      <td>-0.196003</td>\n",
       "      <td>-0.625280</td>\n",
       "      <td>0.298101</td>\n",
       "      <td>0.111291</td>\n",
       "      <td>-0.573702</td>\n",
       "      <td>-0.118652</td>\n",
       "      <td>-0.022816</td>\n",
       "      <td>0.008986</td>\n",
       "      <td>-0.049710</td>\n",
       "    </tr>\n",
       "    <tr>\n",
       "      <th>3</th>\n",
       "      <td>-1.017293</td>\n",
       "      <td>-0.625280</td>\n",
       "      <td>0.298101</td>\n",
       "      <td>0.111291</td>\n",
       "      <td>-0.203914</td>\n",
       "      <td>-0.639801</td>\n",
       "      <td>-1.203614</td>\n",
       "      <td>-1.188477</td>\n",
       "      <td>-1.196432</td>\n",
       "    </tr>\n",
       "    <tr>\n",
       "      <th>4</th>\n",
       "      <td>1.965288</td>\n",
       "      <td>0.481316</td>\n",
       "      <td>0.298101</td>\n",
       "      <td>0.723930</td>\n",
       "      <td>0.720555</td>\n",
       "      <td>0.923644</td>\n",
       "      <td>1.743874</td>\n",
       "      <td>1.714463</td>\n",
       "      <td>1.793754</td>\n",
       "    </tr>\n",
       "  </tbody>\n",
       "</table>\n",
       "</div>"
      ],
      "text/plain": [
       "      carat       cut     color   clarity     depth     table         x  \\\n",
       "0  1.576255  0.481316 -0.318009  0.723930  0.350768  0.402496  1.401353   \n",
       "1  2.678513  1.587913  2.146431 -0.501349  0.165874  0.402496  2.113437   \n",
       "2 -0.196003 -0.625280  0.298101  0.111291 -0.573702 -0.118652 -0.022816   \n",
       "3 -1.017293 -0.625280  0.298101  0.111291 -0.203914 -0.639801 -1.203614   \n",
       "4  1.965288  0.481316  0.298101  0.723930  0.720555  0.923644  1.743874   \n",
       "\n",
       "          y         z  \n",
       "0  1.460456  1.474414  \n",
       "1  2.177120  2.200187  \n",
       "2  0.008986 -0.049710  \n",
       "3 -1.188477 -1.196432  \n",
       "4  1.714463  1.793754  "
      ]
     },
     "execution_count": 142,
     "metadata": {},
     "output_type": "execute_result"
    }
   ],
   "source": [
    "input.head(5)"
   ]
  },
  {
   "cell_type": "code",
   "execution_count": 143,
   "id": "1e5a90b1-a052-4f0b-8f45-e13fa4f50924",
   "metadata": {},
   "outputs": [
    {
     "data": {
      "text/plain": [
       "0    2.391912\n",
       "1    2.334406\n",
       "2   -0.296740\n",
       "3   -0.818755\n",
       "4    2.598636\n",
       "Name: price, dtype: float64"
      ]
     },
     "execution_count": 143,
     "metadata": {},
     "output_type": "execute_result"
    }
   ],
   "source": [
    "output.head(5)"
   ]
  },
  {
   "cell_type": "markdown",
   "id": "27662fb1-2eac-48ee-9ee4-4b23e02f0e56",
   "metadata": {},
   "source": [
    "Here we are defining all the required variables with default values which are used accross all the models while training and predicting."
   ]
  },
  {
   "cell_type": "code",
   "execution_count": 144,
   "id": "b96d657a-08da-4963-8b40-2fbccc298acf",
   "metadata": {},
   "outputs": [],
   "source": [
    "model_accuracies = {} # Used to store the model accuracies obtained from k-fold cross validation method\n",
    "model_accuracies_dim_redu = {} # Used to store the model accuracies obtained from dimensionality reduction method\n",
    "cv_values = [2, 3, 4, 5, 6, 7, 8, 9, 10] # Set of values which are used as k-fold value\n",
    "alpha_values = [0.1, 0.2, 0.3, 0.4, 0.5, 0.6, 0.7, 0.8, 0.9, 1.0] # Set of alpha values which are used for lasso and ridge models\n",
    "n_estimators = [2, 4, 8, 16, 32, 64] # Set of estimator values used for random forest and gradient boosting modles\n",
    "max_depths = list(range(1,10)) # Set of tree max-depth values used for random forest, decision tree and gradient boosting modles\n",
    "learning_rates = [0.1, 0.2, 0.3, 0.4, 0.5] # Set of learning rate values used for gradient boosting model\n",
    "svm_c = list(range(1,5)) # Set of C values which are used in SVM model as regularization parameter"
   ]
  },
  {
   "cell_type": "markdown",
   "id": "f90ad8b9-52b4-44fd-9de8-af9465c409fc",
   "metadata": {},
   "source": [
    "Here we are splitting the input and output data into train and test datasets which are used for model training and prediction."
   ]
  },
  {
   "cell_type": "code",
   "execution_count": 145,
   "id": "1fe6bc63-0870-4cf7-bc97-02b1039a4605",
   "metadata": {},
   "outputs": [],
   "source": [
    "X_train, X_test, y_train, y_test = train_test_split(input, output, test_size=0.33, random_state=2311347)"
   ]
  },
  {
   "cell_type": "markdown",
   "id": "3c4b3b3d-c9d8-4b36-8728-5c7d6d625a2a",
   "metadata": {},
   "source": [
    "#### Dimensionality Reduction\n",
    "Dimensionality reduction is the process of reducing high-dimensional data into low-dimensional data without loosing the important information and patterns. Dimensionality reduction techniques are often used in machine learning. There are various dimensionality reduction methods but here we have used PCA and Variance methods which are simple and effective methods."
   ]
  },
  {
   "cell_type": "markdown",
   "id": "e7123fff-e2c4-4ce8-bd75-21ce29bec2c5",
   "metadata": {},
   "source": [
    "##### Dimensionality reduction using PCA\n",
    "PCA is a dimensionality reduction techinique which calculates the principal components from the data. PCA will calculate covariance matrix of data which has pairwise relationship between features. The components which are contributing more to the dataset will be choosen as new features to train the models."
   ]
  },
  {
   "cell_type": "code",
   "execution_count": 146,
   "id": "49601011-e02a-4149-9b8f-605eadf233e0",
   "metadata": {},
   "outputs": [],
   "source": [
    "pca = PCA()\n",
    "pca_transform = pca.fit_transform(input)\n",
    "pca_data = pd.DataFrame(pca_transform)\n",
    "input_pca = pca_data.iloc[:,0:6]\n",
    "input_pca\n",
    "X_train_pca, X_test_pca, y_train_pca, y_test_pca = train_test_split(input_pca, output, test_size=0.33, random_state=2311347)"
   ]
  },
  {
   "cell_type": "code",
   "execution_count": 147,
   "id": "2ab0f400-7e04-4e95-b8d6-8a5763c0a53d",
   "metadata": {},
   "outputs": [
    {
     "data": {
      "text/plain": [
       "<Axes: >"
      ]
     },
     "execution_count": 147,
     "metadata": {},
     "output_type": "execute_result"
    },
    {
     "data": {
      "image/png": "[encoded data removed]",
      "text/plain": [
       "<Figure size 640x480 with 1 Axes>"
      ]
     },
     "metadata": {},
     "output_type": "display_data"
    }
   ],
   "source": [
    "pd.DataFrame(pca.explained_variance_ratio_).plot.bar()"
   ]
  },
  {
   "cell_type": "markdown",
   "id": "9cdf8007-ed28-4de1-b68d-075ea21a3057",
   "metadata": {},
   "source": [
    "From the above bar plot, we can conclude that first 6 principal components are contributing more to the dataset compared to remaining 3 features. Therefor, we will be using these 6 features to train our models."
   ]
  },
  {
   "cell_type": "markdown",
   "id": "0a3caf27-c335-4393-ad75-a30a533cbf2a",
   "metadata": {},
   "source": [
    "##### Dimensionality reduction using variance method\n",
    "Variance is the another dimensionality reduction methods which is used for feature selection. The feature with high variance contribute more variability to the dataset and vice-versa. Therefore, we will be selecting features with more variance as our input features to train the machine learning models."
   ]
  },
  {
   "cell_type": "code",
   "execution_count": 148,
   "id": "aa36763d-7457-42d9-8fdc-94c9357c7d16",
   "metadata": {},
   "outputs": [],
   "source": [
    "corr_matrix = scaled_dataset.corr()['price']\n",
    "corr_data_columns = corr_matrix[corr_matrix > 0.1].to_frame('corr').index.tolist()\n",
    "corr_data_columns\n",
    "corr_data = scaled_dataset[corr_data_columns]\n",
    "corr_data\n",
    "output_corr = corr_data['price']\n",
    "input_corr = corr_data.drop(['price'], axis=1)\n",
    "X_train_corr, X_test_corr, y_train_corr, y_test_corr = train_test_split(input_corr, output_corr, test_size=0.33, random_state=2311347)"
   ]
  },
  {
   "cell_type": "markdown",
   "id": "9348fdec-a4b8-4a79-acef-f4ffbe1b2771",
   "metadata": {},
   "source": [
    "## Machine Learning Regression Models\n",
    "Machine learning regression models are used to predict continuous numerical values based on the given input features. These models are trained from the labelled input features to make prediction on new dataset. There are many machine learning regression modles which can we used based on various factors like amount of data available and problem complexity. Here, we will be working on various machine learning models to predict the diamond price."
   ]
  },
  {
   "cell_type": "markdown",
   "id": "10a73f88-884c-43b3-af2d-9aa6d36d802e",
   "metadata": {},
   "source": [
    "#### K-Fold Cross Validation\n",
    "K-fold cross validation is a re-sampling method whcih is used to evaluate the performance of the machine learning models. It helps in calculating accurate machine learning model performance and ensures that this performance is consistant with other subsets of the data.\n",
    "\n",
    "We will be performing k-fold cross validation for all the machine learning models which are implemented to evaluate the accurate and optimal modle performance."
   ]
  },
  {
   "cell_type": "markdown",
   "id": "efdc8778-0e7f-4e5e-968e-928feabb2c55",
   "metadata": {},
   "source": [
    "#### Linear Regression\n",
    "Linear regression is one of the most simple and commonly used machine learning model used for regression problem analysis. \n",
    "\n",
    "Here, we will we using this model to finilize some hyper parameters which will be used in other machine learning modles. we will also we using this model to find the best dimensionality reduction method we need to use to train our machine learing models for better performance and predictions."
   ]
  },
  {
   "cell_type": "code",
   "execution_count": 149,
   "id": "05e6feec-ca52-425f-80ab-e02cde2bdc0d",
   "metadata": {},
   "outputs": [],
   "source": [
    "linear_model = LinearRegression()"
   ]
  },
  {
   "cell_type": "code",
   "execution_count": 150,
   "id": "93153ac6-414a-4878-861e-657f6209b5cb",
   "metadata": {},
   "outputs": [
    {
     "name": "stdout",
     "output_type": "stream",
     "text": [
      "The optimal CV value is -> 3\n",
      "The accuracy of Linear Regression model is 0.9242430774447418\n"
     ]
    }
   ],
   "source": [
    "cv_value = 3\n",
    "lr_accuracy = 0\n",
    "for cv in range(3,25):\n",
    "    linear_scores = cross_val_score(linear_model, input, output, cv=cv)\n",
    "    if lr_accuracy < linear_scores.mean():\n",
    "        lr_accuracy = linear_scores.mean()\n",
    "        cv_value = cv_value\n",
    "print('The optimal CV value is ->', cv_value)\n",
    "print('The accuracy of Linear Regression model is ' + str(linear_scores.mean()))\n",
    "model_accuracies['Linear Regression'] = lr_accuracy"
   ]
  },
  {
   "cell_type": "code",
   "execution_count": 151,
   "id": "1bf15f0e-2805-40d4-b534-1c134b824312",
   "metadata": {},
   "outputs": [
    {
     "data": {
      "text/plain": [
       "0.85427625321133"
      ]
     },
     "execution_count": 151,
     "metadata": {},
     "output_type": "execute_result"
    }
   ],
   "source": [
    "scores = cross_val_score(linear_model, input_pca, output, cv=cv_value)\n",
    "scores.mean()"
   ]
  },
  {
   "cell_type": "code",
   "execution_count": 152,
   "id": "b86903bf-8175-4235-9226-2cad6bcfdc0e",
   "metadata": {},
   "outputs": [
    {
     "data": {
      "text/plain": [
       "0.9124690228925312"
      ]
     },
     "execution_count": 152,
     "metadata": {},
     "output_type": "execute_result"
    }
   ],
   "source": [
    "linear_model_scores = cross_val_score(linear_model, input_corr, output_corr, cv=cv_value)\n",
    "linear_model_scores.mean()\n",
    "model_accuracies_dim_redu['Linear Regression'] = linear_model_scores.mean()\n",
    "linear_model_scores.mean()"
   ]
  },
  {
   "cell_type": "markdown",
   "id": "962b0881-b299-4e74-bce3-db6144364677",
   "metadata": {},
   "source": [
    "From the above model predictions, we can see that linear model's accuracy is 87% when we trained the model using PCA dimensionality reduction method and 91% when the model is trained using variance dimensionality reduction method.\n",
    "\n",
    "From this we can conclude that variance dimensionality reduction method helps in evaluating the model's performance better compared to PCA method. Therefore, we will be using <b>variance method </b> to train all the models and evaluate its performance.\n",
    "\n",
    "The optimal CV value we obtained from linear regression model is <b>3</b>. Therefore, we will be using this value as CV value while performing k-fold cross validation re-sampling method for all the machine learning models."
   ]
  },
  {
   "cell_type": "markdown",
   "id": "795d5590-c877-4cdc-836f-bd2d9a610b9c",
   "metadata": {},
   "source": [
    "## Random Forest\n",
    "Random Forest is an ensemble learning method which constructs multitude of decision trees while training and returns the mode of the classes (classification) or mean prediction (regression) of the individual trees as an output."
   ]
  },
  {
   "cell_type": "code",
   "execution_count": 153,
   "id": "4666054a-7349-406f-a3e9-2309312bc146",
   "metadata": {},
   "outputs": [],
   "source": [
    "rf_accuracy = 0\n",
    "rf_estimator = 0\n",
    "rf_depth = 0\n",
    "for n_estimator in n_estimators:\n",
    "    for max_depth in max_depths:\n",
    "        random_forest_model = RandomForestRegressor(n_estimators = n_estimator, max_depth=max_depth)\n",
    "        random_forest_scores = cross_val_score(random_forest_model, input, output, cv=cv_value)\n",
    "        if rf_accuracy < random_forest_scores.mean():\n",
    "            rf_accuracy = random_forest_scores.mean()\n",
    "            rf_estimator = n_estimator\n",
    "            rf_depth = max_depth\n",
    "model_accuracies['Random Forest'] = rf_accuracy"
   ]
  },
  {
   "cell_type": "markdown",
   "id": "1d9c071d-685e-4205-80f6-2dae7b0ecb98",
   "metadata": {},
   "source": [
    "After performing manual grid search for hyper parameter tuning, we have found optimal n_estiamator and max_depth values for random forest regression model. We will be using this optimal values to train the model with data obtained from variance dimensionality reduction method."
   ]
  },
  {
   "cell_type": "code",
   "execution_count": 154,
   "id": "a6b5a69e-ef3d-4811-8c94-ffbdd19b36d9",
   "metadata": {},
   "outputs": [
    {
     "name": "stdout",
     "output_type": "stream",
     "text": [
      "The accuracy of Random Forest regression model is  0.9770275028528294\n",
      "The optimal n_estiamator is  64\n",
      "The optimal max_depth value is  9\n"
     ]
    }
   ],
   "source": [
    "print('The accuracy of Random Forest regression model is ', rf_accuracy)\n",
    "print('The optimal n_estiamator is ', rf_estimator)\n",
    "print('The optimal max_depth value is ', rf_depth)"
   ]
  },
  {
   "cell_type": "code",
   "execution_count": 155,
   "id": "864922be-6f98-4817-ac7e-651266e6dec6",
   "metadata": {},
   "outputs": [],
   "source": [
    "random_forest_model = RandomForestRegressor(n_estimators = rf_estimator, max_depth = rf_depth)\n",
    "random_forest_scores = cross_val_score(random_forest_model, input_corr, output_corr, cv=cv_value)\n",
    "random_forest_scores.mean()\n",
    "model_accuracies_dim_redu['Random Forest'] = random_forest_scores.mean()"
   ]
  },
  {
   "cell_type": "markdown",
   "id": "dfcc2cd4-d348-4a2e-8e45-47f37a8f31a6",
   "metadata": {},
   "source": [
    "## Decision Tree\n",
    "Decision Tree is a non-parametric supervised machine learning method used for classification and regression tasks. Decision tree predicts  target variable by learning some simple decision rules which are inferred from the features of the data."
   ]
  },
  {
   "cell_type": "code",
   "execution_count": 156,
   "id": "c8f11fef-0e65-4f10-bf3b-cb1842972aad",
   "metadata": {},
   "outputs": [],
   "source": [
    "dt_accuracy = 0\n",
    "dt_depth = 0\n",
    "for max_depth in max_depths:\n",
    "    decision_tree_model = tree.DecisionTreeRegressor(max_depth = max_depth)\n",
    "    # for cv_value in cv_values:\n",
    "    decision_tree_scores = cross_val_score(decision_tree_model, input, output, cv=cv_value)\n",
    "    if dt_accuracy < decision_tree_scores.mean():\n",
    "            dt_accuracy = decision_tree_scores.mean()\n",
    "            dt_depth = max_depth\n",
    "model_accuracies['Decision Tree'] = dt_accuracy"
   ]
  },
  {
   "cell_type": "code",
   "execution_count": 157,
   "id": "26e7cddc-f1a0-4218-b4cd-1edc16217437",
   "metadata": {},
   "outputs": [
    {
     "name": "stdout",
     "output_type": "stream",
     "text": [
      "The accuracy of Decision Tree regression model is  0.974809649506776\n",
      "The optimal max_depth value is  9\n"
     ]
    }
   ],
   "source": [
    "print('The accuracy of Decision Tree regression model is ', dt_accuracy)\n",
    "print('The optimal max_depth value is ', dt_depth)"
   ]
  },
  {
   "cell_type": "markdown",
   "id": "08105ab0-e00c-4a60-b6bd-1f647d4a4c07",
   "metadata": {},
   "source": [
    "After performing manual grid search for hyper parameter tuning, we have found optimal max_depth value for decision tree regression model. We will be using this optimal values to train the model with data obtained from variance dimensionality reduction method."
   ]
  },
  {
   "cell_type": "code",
   "execution_count": 158,
   "id": "1c5f48a7-505f-4a28-951e-3cb7c4e79539",
   "metadata": {},
   "outputs": [],
   "source": [
    "decision_tree_model = tree.DecisionTreeRegressor(max_depth = dt_depth)\n",
    "decision_tree_scores = cross_val_score(decision_tree_model, input_corr, output_corr, cv=cv_value)\n",
    "decision_tree_scores.mean()\n",
    "model_accuracies_dim_redu['Decision Tree'] = decision_tree_scores.mean()"
   ]
  },
  {
   "cell_type": "markdown",
   "id": "0cc29b73-ad17-4d2e-b5e6-11572e4c6bb8",
   "metadata": {},
   "source": [
    "## Ridge Regression\n",
    "Ridge Regression which is also known as Tikhonov regularization is a linear regression method which adds regularization step to cost function to imporove model's performance and stop over-fitting."
   ]
  },
  {
   "cell_type": "code",
   "execution_count": 159,
   "id": "98c99d79-4242-4ef8-b4c9-f388471fec36",
   "metadata": {},
   "outputs": [
    {
     "name": "stdout",
     "output_type": "stream",
     "text": [
      "The accuracy of Ridge model is  0.9242373817738688\n",
      "The optimal alpha_value value is  0.1\n"
     ]
    }
   ],
   "source": [
    "ridge_accuracy = 0\n",
    "alpha_value_ridge = 0\n",
    "for alpha in alpha_values:\n",
    "    ridge_model = Ridge(alpha=alpha)\n",
    "    # for cv_value in cv_values:\n",
    "    ridge_scores = cross_val_score(ridge_model, input, output, cv=cv_value)\n",
    "    if ridge_accuracy < ridge_scores.mean():\n",
    "        ridge_accuracy = ridge_scores.mean()\n",
    "        alpha_value_ridge = alpha\n",
    "model_accuracies['Ridge'] = ridge_accuracy\n",
    "print('The accuracy of Ridge model is ', ridge_accuracy)\n",
    "print('The optimal alpha_value value is ', alpha_value_ridge)"
   ]
  },
  {
   "cell_type": "markdown",
   "id": "a17fcc66-dce5-412a-b865-938544b52c22",
   "metadata": {},
   "source": [
    "After performing manual grid search for hyper parameter tuning, we have found optimal alpha value for ridge model. We will be using this optimal values to train the model with data obtained from variance dimensionality reduction method."
   ]
  },
  {
   "cell_type": "code",
   "execution_count": 160,
   "id": "beda8e00-80a0-4089-87cf-41eda6184268",
   "metadata": {},
   "outputs": [],
   "source": [
    "ridge_model = Ridge(alpha=alpha_value_ridge)\n",
    "ridge_scores = cross_val_score(ridge_model, input_corr, output_corr, cv=cv_value)\n",
    "ridge_scores.mean()\n",
    "model_accuracies_dim_redu['Ridge'] = ridge_scores.mean()"
   ]
  },
  {
   "cell_type": "markdown",
   "id": "38e4fa9c-2e21-4d4d-87c7-eda31ae703d8",
   "metadata": {},
   "source": [
    "## Gradient Boosting Regression\n",
    "Gradient Boosting is also a powerful ensemble learning technique used for both regression and classification tasks. This model builds strong machine learning prediction model usually by combining multiple trees also called as weak learners by rectifying errors."
   ]
  },
  {
   "cell_type": "code",
   "execution_count": null,
   "id": "bb4d897c-017f-4ad3-a39f-2eb738962337",
   "metadata": {},
   "outputs": [],
   "source": [
    "grad_accuracy = 0\n",
    "grad_estimator = 0\n",
    "grad_depth = 0\n",
    "grad_learning_rate = 0\n",
    "for n_estimator in n_estimators:\n",
    "    for max_depth in max_depths:\n",
    "        for learning_rate in learning_rates:\n",
    "            gradient_model = GradientBoostingRegressor(learning_rate = learning_rate, max_depth = max_depth, n_estimators = n_estimator, random_state = 2311347)\n",
    "            grad_boost_scores = cross_val_score(gradient_model, input, output, cv=cv_value)\n",
    "            if grad_accuracy < grad_boost_scores.mean():\n",
    "                grad_accuracy = grad_boost_scores.mean()\n",
    "                grad_estimator = n_estimator\n",
    "                grad_depth = max_depth\n",
    "                drag_learning_rate = learning_rate\n",
    "model_accuracies['Gradient Boosting'] = grad_accuracy\n",
    "print('The accuracy of Gradient Boosting model is ', grad_accuracy)\n",
    "print('The optimal n_estiamator is ', grad_estimator)\n",
    "print('The optimal max_depth value is ', grad_depth)\n",
    "print('The optimal learning rate value is ', grad_learning_rate)"
   ]
  },
  {
   "cell_type": "markdown",
   "id": "10b1f06c-3f99-44d2-a087-afe555eea88d",
   "metadata": {},
   "source": [
    "After performing manual grid search for hyper parameter tuning, we have found optimal n_estimator, max_depth and learning ratevalues for gradient boosting model. We will be using this optimal values to train the model with data obtained from variance dimensionality reduction method."
   ]
  },
  {
   "cell_type": "markdown",
   "id": "c32dd6a4-2523-4633-9fa5-32df2f8e93a4",
   "metadata": {},
   "source": [
    "## SVM (Support Vector Machine)\n",
    "Support Vector Machine (SVM) is a powerful supervised machine learning model used for both classification and regression tasks which performs well in high-dimensional feature spaces. \n",
    "\n",
    "Since SVM performs better on more number of features, we will use get_dummies method for data manipulation. Here we will be converting categorical features into dummy variables with binary value indicating each categorical value."
   ]
  },
  {
   "cell_type": "code",
   "execution_count": null,
   "id": "41484add-e9aa-49d8-a674-c1ff163ffc59",
   "metadata": {},
   "outputs": [],
   "source": [
    "svm_dataset= pd.get_dummies(train_dataset, ['cut',\t'color', 'clarity'])"
   ]
  },
  {
   "cell_type": "markdown",
   "id": "801c5bd5-a48e-49f0-ab6e-13f0e08a3dd4",
   "metadata": {},
   "source": [
    "Here we are converting categorical binary data into numerical values."
   ]
  },
  {
   "cell_type": "code",
   "execution_count": null,
   "id": "0e2db5c5-e732-449e-8b49-0d91c6c8fe01",
   "metadata": {},
   "outputs": [],
   "source": [
    "svm_dataset = svm_dataset*1"
   ]
  },
  {
   "cell_type": "code",
   "execution_count": null,
   "id": "cf15755b-2d47-45b6-93d7-8281f92ea8ef",
   "metadata": {},
   "outputs": [],
   "source": [
    "svm_dataset.head(5)"
   ]
  },
  {
   "cell_type": "code",
   "execution_count": null,
   "id": "34892665-7340-4358-bc16-bb13334769bc",
   "metadata": {},
   "outputs": [],
   "source": [
    "svm_dataset.shape"
   ]
  },
  {
   "cell_type": "code",
   "execution_count": null,
   "id": "6b7c14a6-c7a3-4f2e-b3ca-5892d8abd445",
   "metadata": {},
   "outputs": [],
   "source": [
    "model_accuracies['SVM'] = 0.76"
   ]
  },
  {
   "cell_type": "markdown",
   "id": "143c48ba-a318-42a7-9e40-a301d1398dec",
   "metadata": {},
   "source": [
    "After performing get_dummies method, we have 27 features and 193573 observations."
   ]
  },
  {
   "cell_type": "code",
   "execution_count": null,
   "id": "ea6c21af-5d2b-4780-8492-df84229e5906",
   "metadata": {},
   "outputs": [],
   "source": [
    "output_svm = svm_dataset['price']\n",
    "input_svm = svm_dataset.drop(['price'], axis=1)\n",
    "X_train_svm, X_test_svm, y_train_svm, y_test_svm = train_test_split(input_svm, output_svm, test_size=0.33, random_state=2311347)"
   ]
  },
  {
   "cell_type": "markdown",
   "id": "d23ec0b7-14d6-479c-83f2-744fa10b9b70",
   "metadata": {},
   "source": [
    "Here we will segregate the SVM dataset into input and output data which we will be using to train the models. Since price is our output variable, we can drop this feature from the dataset and assign it to new variable 'output' and remaining data will be assigned to 'input' variable. Now we can use this input and output variables to train the models. Later, we will split the input and output data into train and test datasets which are used for model training and prediction."
   ]
  },
  {
   "cell_type": "code",
   "execution_count": null,
   "id": "a9a2152c-6651-47db-b5a3-31d52f32954b",
   "metadata": {},
   "outputs": [],
   "source": [
    "svm_accuracy = 0\n",
    "c_val = 0\n",
    "for c in svm_c: \n",
    "    svm_model = make_pipeline(StandardScaler(), SVR(C=c))\n",
    "    svm_scores = cross_val_score(svm_model, input_svm, output_svm, cv=3)\n",
    "    print(svm_scores.mean())\n",
    "    if svm_accuracy < svm_scores.mean():\n",
    "        svm_accuracy = svm_scores.mean()\n",
    "        c_val = c\n",
    "model_accuracies['SVM'] = svm_accuracy"
   ]
  },
  {
   "cell_type": "code",
   "execution_count": null,
   "id": "bac8ce40-47e6-4f6d-9ce1-e43696685826",
   "metadata": {},
   "outputs": [],
   "source": [
    "Print('The accuracy of SVM model is ', svm_accuracy)\n",
    "print('The optimal C value is ', c_val)"
   ]
  },
  {
   "cell_type": "code",
   "execution_count": null,
   "id": "eaf3a38e-32ad-4bfb-859a-dd70a05bafe5",
   "metadata": {},
   "outputs": [],
   "source": [
    "accuracies_arr = np.arange(len(model_accuracies))\n",
    "accuracy_plot = plt.subplot(111)\n",
    "accuracy_plot.bar(accuracies_arr, model_accuracies.values(), width=0.2, color='b', align='center')\n",
    "plt.xticks(accuracies_arr, model_accuracies.keys())\n",
    "plt.title(\"Accuracy of Different Machine Learning Models - K-fold cross validation\", fontsize=14)\n",
    "plt.xlabel('Model')\n",
    "plt.ylabel('Accuracy')\n",
    "plt.xticks(rotation=45)\n",
    "plt.show()"
   ]
  },
  {
   "cell_type": "code",
   "execution_count": null,
   "id": "7c79bb69-fba3-433f-98f8-5a97dfa1f71a",
   "metadata": {},
   "outputs": [],
   "source": [
    "accuracies_arr = np.arange(len(model_accuracies_dim_redu))\n",
    "accuracy_plot = plt.subplot(111)\n",
    "accuracy_plot.bar(accuracies_arr, model_accuracies_dim_redu.values(), width=0.2, color='b', align='center')\n",
    "plt.xticks(accuracies_arr, model_accuracies_dim_redu.keys())\n",
    "plt.title(\"Accuracy of Different Machine Learning Models - Dimensionality Reduction\", fontsize=14)\n",
    "plt.xlabel('Model')\n",
    "plt.ylabel('Accuracy')\n",
    "plt.xticks(rotation=45)\n",
    "plt.show()"
   ]
  },
  {
   "cell_type": "markdown",
   "id": "793df00d-0cf9-47d0-9928-1c685d191c3d",
   "metadata": {},
   "source": [
    "## Neural Networks "
   ]
  },
  {
   "cell_type": "markdown",
   "id": "48c05f89-055a-4c5f-97d6-d8d8e5a935ce",
   "metadata": {},
   "source": [
    "Neural networks also known as artificial neural networks are models that are inspired by neural network structure and functionality of the human brain. These model consists of set of nodes aslo reffered as neurons in form of layers. Each neuron is responsible for performing the operations on the input and generate output. Neural networks are used in solving complex tasks such as image recognization, natural language processing (NLP) problems, recomendation systems, health care and much more.\n",
    "\n",
    "To train the neural networks, first we will split the normalized dataset into train and test datasets using train_test_split function. Here we will be using train dataset as input to train the neural network model with activation function 'relu'. Once training is done, we will be using test dataset to test the trained neural network model."
   ]
  },
  {
   "cell_type": "code",
   "execution_count": null,
   "id": "38a1f686-3bde-4e9c-b910-55c13923132a",
   "metadata": {},
   "outputs": [],
   "source": [
    "X_train, X_test, y_train, y_test = train_test_split(input, output, test_size=0.33, random_state=2311347)"
   ]
  },
  {
   "cell_type": "markdown",
   "id": "5157d5c3-20d0-463a-a2cd-4ac0606f17da",
   "metadata": {},
   "source": [
    "Here we are performing the manual grid search to calculate the optimal neurons required to train the neural network model. Since neural network model works on neurons, finding optimal neurons count is the crutial task while building the model."
   ]
  },
  {
   "cell_type": "code",
   "execution_count": null,
   "id": "fc39e068-ba3b-4e7c-be5c-a21fba05f06a",
   "metadata": {},
   "outputs": [],
   "source": [
    "neurons = [4, 8, 16, 32, 64, 96, 128]\n",
    "optimal_accuracy = 0\n",
    "optimal_neurons = 0\n",
    "optimal_history = ''\n",
    "for neuron in neurons:\n",
    "\n",
    "    #Creating neural network model \n",
    "    model = keras.Sequential([\n",
    "        \n",
    "        #Input layer with 9 input features\n",
    "        layers.Input(shape=(9,)),\n",
    "        \n",
    "        #Hidden layer with dynamic neurons and relu as an activation function\n",
    "        layers.Dense(neuron, activation='relu'),\n",
    "        \n",
    "        #Dropout layer to improve the model performance\n",
    "        layers.Dropout(0.1),\n",
    "        \n",
    "        #Output layer with one neuron since we have only one output feature i'e price\n",
    "        layers.Dense(1, activation='sigmoid')\n",
    "    ])\n",
    "\n",
    "    # Here we will compile the model\n",
    "    model.compile(optimizer='adam', loss='mean_squared_error')\n",
    "\n",
    "    # We are creating a callback step which has early stopping. This step helps in stopping the model from training when there is no improvement.\n",
    "    callback = keras.callbacks.EarlyStopping(monitor='val_loss', patience=3)\n",
    "\n",
    "    #Training the neural network model\n",
    "    history = model.fit(X_train, y_train, epochs=50, batch_size=16, validation_data=(X_test, y_test), callbacks=[callback])\n",
    "\n",
    "    #Evaluate the model\n",
    "    test_loss = model.evaluate(X_test, y_test)\n",
    "    \n",
    "    #Predicting the model with test dataset\n",
    "    predictions = model.predict(X_test)\n",
    "\n",
    "    #Calculating the accuracy\n",
    "    accuracy = r2_score(y_test, predictions)\n",
    "    \n",
    "    if optimal_accuracy < accuracy:\n",
    "        optimal_accuracy = accuracy\n",
    "        optimal_neurons = neuron\n",
    "        optimal_history = history\n",
    "        \n",
    "    print('------------------------------------------------------------------------------------')\n",
    "    print('The overall results of a neural network model build with ', neuron, ' neurons are ', )\n",
    "    print('Modal Loss is ', test_loss)\n",
    "    print('Predicted price values are ', predictions)\n",
    "    print('Root mean square error is ', mean_squared_error(y_test, predictions))\n",
    "    print('Accuracy of the neural network model is ', accuracy)"
   ]
  },
  {
   "cell_type": "code",
   "execution_count": null,
   "id": "baa75903-5f64-48db-8cdd-c6ef6ea39a1b",
   "metadata": {},
   "outputs": [],
   "source": [
    "print('optimal number of neurons are ', optimal_neurons)\n",
    "print('The accuracy of the neural network model is ', optimal_accuracy)"
   ]
  },
  {
   "cell_type": "code",
   "execution_count": null,
   "id": "913e2552-3b25-4f1c-ba0a-ea384ee8dc4a",
   "metadata": {},
   "outputs": [],
   "source": [
    "plt.plot(optimal_history.history['loss'])\n",
    "plt.plot(optimal_history.history['val_loss'])\n",
    "plt.title(\"Training & Validation loss across epochs\")\n",
    "plt.ylabel('Loss')\n",
    "plt.xlabel('Epochs')\n",
    "plt.legend(['Train', 'Validation'], loc='upper right')\n",
    "plt.show()"
   ]
  },
  {
   "cell_type": "markdown",
   "id": "ab3b9121-538d-4133-b025-6e6e981e43e7",
   "metadata": {},
   "source": [
    "## Conclusion"
   ]
  },
  {
   "cell_type": "markdown",
   "id": "b69f46df-1bc1-4a56-9a2c-f5f1e18bc724",
   "metadata": {},
   "source": [
    "In this report, we have worked on diamond price prediction dataset. We have performed priliminary analysis, data cleaning and feature engineering steps on dataset. Then, we implemented few machine learning regression models to predict the price of the diamonds based on the diamond charestristics. We have performed various steps such as re-sampling the data, k-fold cross validation, dimensionality reduction, hyper parameter tuning to increase the performance of the models. From the models results, we can conclude that Gradient boosting and random forest model with k-fold cross validation has the best accuracy of 97%. Since there are less features in the dataset, we can observe that all the models with dimensionality reduction performance is less compared to k-fold cross validation. Then, we built artifical neural network to predict the diamond price. From the neural network model result, we can conclude that the model has performed better with an accuracy of 96%. To conclude, we can use machine learing and artificial neural network models to predict the diamond price accurately."
   ]
  },
  {
   "cell_type": "code",
   "execution_count": null,
   "id": "d81e2c4a-3d2c-4ee4-883f-0c7885c31779",
   "metadata": {},
   "outputs": [],
   "source": []
  }
 ],
 "metadata": {
  "kernelspec": {
   "display_name": "Python 3 (ipykernel)",
   "language": "python",
   "name": "python3"
  },
  "language_info": {
   "codemirror_mode": {
    "name": "ipython",
    "version": 3
   },
   "file_extension": ".py",
   "mimetype": "text/x-python",
   "name": "python",
   "nbconvert_exporter": "python",
   "pygments_lexer": "ipython3",
   "version": "3.11.7"
  }
 },
 "nbformat": 4,
 "nbformat_minor": 5
}
